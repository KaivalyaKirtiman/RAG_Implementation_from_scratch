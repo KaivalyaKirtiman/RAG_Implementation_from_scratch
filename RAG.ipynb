{
 "cells": [
  {
   "cell_type": "code",
   "execution_count": 2,
   "id": "150e8588",
   "metadata": {},
   "outputs": [],
   "source": [
    "corpus_of_documents = [\n",
    "    \"Take a leisurely walk in the park and enjoy the fresh air.\",\n",
    "    \"Visit a local museum and discover something new.\",\n",
    "    \"Attend a live music concert and feel the rhythm.\",\n",
    "    \"Go for a hike and admire the natural scenery.\",\n",
    "    \"Have a picnic with friends and share some laughs.\",\n",
    "    \"Explore a new cuisine by dining at an ethnic restaurant.\",\n",
    "    \"Take a yoga class and stretch your body and mind.\",\n",
    "    \"Join a local sports league and enjoy some friendly competition.\",\n",
    "    \"Attend a workshop or lecture on a topic you're interested in.\",\n",
    "    \"Visit an amusement park and ride the roller coasters.\"\n",
    "]"
   ]
  },
  {
   "cell_type": "code",
   "execution_count": 3,
   "id": "35f85956",
   "metadata": {},
   "outputs": [
    {
     "data": {
      "text/plain": [
       "['Take a leisurely walk in the park and enjoy the fresh air.',\n",
       " 'Visit a local museum and discover something new.',\n",
       " 'Attend a live music concert and feel the rhythm.',\n",
       " 'Go for a hike and admire the natural scenery.',\n",
       " 'Have a picnic with friends and share some laughs.',\n",
       " 'Explore a new cuisine by dining at an ethnic restaurant.',\n",
       " 'Take a yoga class and stretch your body and mind.',\n",
       " 'Join a local sports league and enjoy some friendly competition.',\n",
       " \"Attend a workshop or lecture on a topic you're interested in.\",\n",
       " 'Visit an amusement park and ride the roller coasters.']"
      ]
     },
     "execution_count": 3,
     "metadata": {},
     "output_type": "execute_result"
    }
   ],
   "source": [
    "corpus_of_documents"
   ]
  },
  {
   "cell_type": "code",
   "execution_count": 4,
   "id": "29c21f74",
   "metadata": {},
   "outputs": [],
   "source": [
    "user_query=\"i am an indian and i live in india\""
   ]
  },
  {
   "cell_type": "code",
   "execution_count": 5,
   "id": "2db84514",
   "metadata": {},
   "outputs": [],
   "source": [
    "document=\"india is a country for the indians and for eveyone\""
   ]
  },
  {
   "cell_type": "code",
   "execution_count": 6,
   "id": "b09fca49",
   "metadata": {},
   "outputs": [],
   "source": [
    "from collections import Counter\n",
    "import math"
   ]
  },
  {
   "cell_type": "code",
   "execution_count": 8,
   "id": "9ffde5a2",
   "metadata": {},
   "outputs": [],
   "source": [
    "query_tokens=user_query.lower().split(\" \")"
   ]
  },
  {
   "cell_type": "code",
   "execution_count": 9,
   "id": "0726d980",
   "metadata": {},
   "outputs": [
    {
     "data": {
      "text/plain": [
       "['i', 'am', 'an', 'indian', 'and', 'i', 'live', 'in', 'india']"
      ]
     },
     "execution_count": 9,
     "metadata": {},
     "output_type": "execute_result"
    }
   ],
   "source": [
    "query_tokens"
   ]
  },
  {
   "cell_type": "code",
   "execution_count": 10,
   "id": "ea3b41ca",
   "metadata": {},
   "outputs": [],
   "source": [
    "document_tokens=document.lower().split(\" \")"
   ]
  },
  {
   "cell_type": "code",
   "execution_count": 11,
   "id": "47e30595",
   "metadata": {},
   "outputs": [
    {
     "data": {
      "text/plain": [
       "['india',\n",
       " 'is',\n",
       " 'a',\n",
       " 'country',\n",
       " 'for',\n",
       " 'the',\n",
       " 'indians',\n",
       " 'and',\n",
       " 'for',\n",
       " 'eveyone']"
      ]
     },
     "execution_count": 11,
     "metadata": {},
     "output_type": "execute_result"
    }
   ],
   "source": [
    "document_tokens"
   ]
  },
  {
   "cell_type": "code",
   "execution_count": 13,
   "id": "7fc5d831",
   "metadata": {},
   "outputs": [],
   "source": [
    "query_counter=Counter(query_tokens)"
   ]
  },
  {
   "cell_type": "code",
   "execution_count": 14,
   "id": "7432301d",
   "metadata": {},
   "outputs": [
    {
     "data": {
      "text/plain": [
       "Counter({'i': 2,\n",
       "         'am': 1,\n",
       "         'an': 1,\n",
       "         'indian': 1,\n",
       "         'and': 1,\n",
       "         'live': 1,\n",
       "         'in': 1,\n",
       "         'india': 1})"
      ]
     },
     "execution_count": 14,
     "metadata": {},
     "output_type": "execute_result"
    }
   ],
   "source": [
    "query_counter"
   ]
  },
  {
   "cell_type": "code",
   "execution_count": 15,
   "id": "8c180705",
   "metadata": {},
   "outputs": [],
   "source": [
    "document_counter=Counter(document_tokens)"
   ]
  },
  {
   "cell_type": "code",
   "execution_count": 16,
   "id": "23cb46eb",
   "metadata": {},
   "outputs": [
    {
     "data": {
      "text/plain": [
       "Counter({'for': 2,\n",
       "         'india': 1,\n",
       "         'is': 1,\n",
       "         'a': 1,\n",
       "         'country': 1,\n",
       "         'the': 1,\n",
       "         'indians': 1,\n",
       "         'and': 1,\n",
       "         'eveyone': 1})"
      ]
     },
     "execution_count": 16,
     "metadata": {},
     "output_type": "execute_result"
    }
   ],
   "source": [
    "document_counter"
   ]
  },
  {
   "cell_type": "code",
   "execution_count": 17,
   "id": "87aaa063",
   "metadata": {},
   "outputs": [],
   "source": [
    "lst=[]\n",
    "for token in query_counter.keys():\n",
    "    lst.append(query_counter[token])"
   ]
  },
  {
   "cell_type": "code",
   "execution_count": 18,
   "id": "c273a63c",
   "metadata": {},
   "outputs": [],
   "source": [
    "user_query=\"i am an indian and i live in india\"\n",
    "document=\"india is a country for the indians and for eveyone\""
   ]
  },
  {
   "cell_type": "code",
   "execution_count": 19,
   "id": "9e5d3565",
   "metadata": {},
   "outputs": [
    {
     "data": {
      "text/plain": [
       "[2, 1, 1, 1, 1, 1, 1, 1]"
      ]
     },
     "execution_count": 19,
     "metadata": {},
     "output_type": "execute_result"
    }
   ],
   "source": [
    "#sentance vector\n",
    "lst"
   ]
  },
  {
   "cell_type": "code",
   "execution_count": 20,
   "id": "4f87feef",
   "metadata": {},
   "outputs": [
    {
     "name": "stdout",
     "output_type": "stream",
     "text": [
      "india\n",
      "and\n"
     ]
    }
   ],
   "source": [
    "for tokens in query_counter.keys() & document_counter.keys():\n",
    "    print(tokens)"
   ]
  },
  {
   "cell_type": "code",
   "execution_count": 21,
   "id": "3977f1b1",
   "metadata": {},
   "outputs": [],
   "source": [
    "mylist=[]\n",
    "for tokens in query_counter.keys() & document_counter.keys():\n",
    "    mylist.append(query_counter[tokens]*document_counter[tokens])"
   ]
  },
  {
   "cell_type": "code",
   "execution_count": 22,
   "id": "d31884cf",
   "metadata": {},
   "outputs": [
    {
     "data": {
      "text/plain": [
       "[1, 1]"
      ]
     },
     "execution_count": 22,
     "metadata": {},
     "output_type": "execute_result"
    }
   ],
   "source": [
    "mylist"
   ]
  },
  {
   "cell_type": "code",
   "execution_count": 23,
   "id": "ad1889cd",
   "metadata": {},
   "outputs": [],
   "source": [
    "dot_prod=sum(mylist)"
   ]
  },
  {
   "cell_type": "code",
   "execution_count": 24,
   "id": "3990d711",
   "metadata": {},
   "outputs": [],
   "source": [
    "query_magnitude = math.sqrt(sum(query_counter[token] ** 2 for token in query_counter))"
   ]
  },
  {
   "cell_type": "code",
   "execution_count": 25,
   "id": "97c17d06",
   "metadata": {},
   "outputs": [
    {
     "data": {
      "text/plain": [
       "3.3166247903554"
      ]
     },
     "execution_count": 25,
     "metadata": {},
     "output_type": "execute_result"
    }
   ],
   "source": [
    "query_magnitude"
   ]
  },
  {
   "cell_type": "code",
   "execution_count": 26,
   "id": "a8a29603",
   "metadata": {},
   "outputs": [],
   "source": [
    "document_magnitude = math.sqrt(sum(document_counter[token] ** 2 for token in document_counter))"
   ]
  },
  {
   "cell_type": "code",
   "execution_count": 27,
   "id": "d89b4d88",
   "metadata": {},
   "outputs": [
    {
     "data": {
      "text/plain": [
       "3.4641016151377544"
      ]
     },
     "execution_count": 27,
     "metadata": {},
     "output_type": "execute_result"
    }
   ],
   "source": [
    "document_magnitude"
   ]
  },
  {
   "cell_type": "code",
   "execution_count": 28,
   "id": "63bb628c",
   "metadata": {},
   "outputs": [],
   "source": [
    "similarity=(dot_prod)/(query_magnitude*document_magnitude)"
   ]
  },
  {
   "cell_type": "code",
   "execution_count": 29,
   "id": "62497b8b",
   "metadata": {},
   "outputs": [
    {
     "data": {
      "text/plain": [
       "0.17407765595569785"
      ]
     },
     "execution_count": 29,
     "metadata": {},
     "output_type": "execute_result"
    }
   ],
   "source": [
    "similarity"
   ]
  },
  {
   "cell_type": "code",
   "execution_count": 30,
   "id": "79747003",
   "metadata": {},
   "outputs": [],
   "source": [
    "user_query=\"is yoga good for health\"\n",
    "document=\"yoga is very good for living healthy lifesytle.\""
   ]
  },
  {
   "cell_type": "code",
   "execution_count": 31,
   "id": "14ee2199",
   "metadata": {},
   "outputs": [],
   "source": [
    "def cosine_similarity(query, document):\n",
    "    # Tokenize and convert to lowercase\n",
    "    query_tokens = query.lower().split(\" \")\n",
    "    document_tokens = document.lower().split(\" \")\n",
    "\n",
    "    # Create Counters for query and document\n",
    "    query_counter = Counter(query_tokens)\n",
    "    document_counter = Counter(document_tokens)\n",
    "\n",
    "    # Calculate dot product\n",
    "    dot_product = sum(query_counter[token] * document_counter[token] for token in query_counter.keys() & document_counter.keys())\n",
    "\n",
    "    # Calculate magnitudes\n",
    "    query_magnitude = math.sqrt(sum(query_counter[token] ** 2 for token in query_counter))\n",
    "    document_magnitude = math.sqrt(sum(document_counter[token] ** 2 for token in document_counter))\n",
    "\n",
    "    # Calculate cosine similarity\n",
    "    similarity = dot_product / (query_magnitude * document_magnitude) if query_magnitude * document_magnitude != 0 else 0\n",
    "\n",
    "    return similarity"
   ]
  },
  {
   "cell_type": "code",
   "execution_count": 32,
   "id": "f14b5cc4",
   "metadata": {},
   "outputs": [
    {
     "data": {
      "text/plain": [
       "0.6324555320336759"
      ]
     },
     "execution_count": 32,
     "metadata": {},
     "output_type": "execute_result"
    }
   ],
   "source": [
    "cosine_similarity(user_query,document)"
   ]
  },
  {
   "cell_type": "code",
   "execution_count": 35,
   "id": "b3687b93",
   "metadata": {},
   "outputs": [
    {
     "data": {
      "text/plain": [
       "0.17407765595569785"
      ]
     },
     "execution_count": 35,
     "metadata": {},
     "output_type": "execute_result"
    }
   ],
   "source": [
    "user_query=\"i am an indian and i live in india\"\n",
    "document=\"india is a country for the indians and for eveyone\"\n",
    "cosine_similarity(user_query,document)"
   ]
  },
  {
   "cell_type": "code",
   "execution_count": 36,
   "id": "20181443",
   "metadata": {},
   "outputs": [],
   "source": [
    "def return_response(query, corpus):\n",
    "    similarities = []\n",
    "    for doc in corpus:\n",
    "        similarity = cosine_similarity(query, doc)\n",
    "        similarities.append(similarity)\n",
    "    return corpus_of_documents[similarities.index(max(similarities))]"
   ]
  },
  {
   "cell_type": "code",
   "execution_count": 37,
   "id": "c4164091",
   "metadata": {},
   "outputs": [
    {
     "data": {
      "text/plain": [
       "['Take a leisurely walk in the park and enjoy the fresh air.',\n",
       " 'Visit a local museum and discover something new.',\n",
       " 'Attend a live music concert and feel the rhythm.',\n",
       " 'Go for a hike and admire the natural scenery.',\n",
       " 'Have a picnic with friends and share some laughs.',\n",
       " 'Explore a new cuisine by dining at an ethnic restaurant.',\n",
       " 'Take a yoga class and stretch your body and mind.',\n",
       " 'Join a local sports league and enjoy some friendly competition.',\n",
       " \"Attend a workshop or lecture on a topic you're interested in.\",\n",
       " 'Visit an amusement park and ride the roller coasters.']"
      ]
     },
     "execution_count": 37,
     "metadata": {},
     "output_type": "execute_result"
    }
   ],
   "source": [
    "corpus_of_documents"
   ]
  },
  {
   "cell_type": "code",
   "execution_count": 38,
   "id": "268068fd",
   "metadata": {},
   "outputs": [],
   "source": [
    "user_input=\"i like fresh air.\""
   ]
  },
  {
   "cell_type": "code",
   "execution_count": 40,
   "id": "1732ce9b",
   "metadata": {},
   "outputs": [],
   "source": [
    "relevant_document=return_response(user_input,corpus_of_documents)"
   ]
  },
  {
   "cell_type": "code",
   "execution_count": 41,
   "id": "0e73f309",
   "metadata": {},
   "outputs": [
    {
     "data": {
      "text/plain": [
       "'Take a leisurely walk in the park and enjoy the fresh air.'"
      ]
     },
     "execution_count": 41,
     "metadata": {},
     "output_type": "execute_result"
    }
   ],
   "source": [
    "relevant_document"
   ]
  },
  {
   "cell_type": "code",
   "execution_count": 44,
   "id": "f7bdbfb1",
   "metadata": {},
   "outputs": [
    {
     "data": {
      "text/plain": [
       "'Take a yoga class and stretch your body and mind.'"
      ]
     },
     "execution_count": 44,
     "metadata": {},
     "output_type": "execute_result"
    }
   ],
   "source": [
    "user_input=\"i like to do yoga\"\n",
    "relevant_document=return_response(user_input,corpus_of_documents)\n",
    "relevant_document"
   ]
  },
  {
   "cell_type": "code",
   "execution_count": 45,
   "id": "ecc8cc6a",
   "metadata": {},
   "outputs": [],
   "source": [
    "import requests\n",
    "import json\n",
    "full_response = []"
   ]
  },
  {
   "cell_type": "code",
   "execution_count": null,
   "id": "779abccb",
   "metadata": {},
   "outputs": [],
   "source": [
    "full_response = []\n",
    "prompt = \"\"\"\n",
    "You are a bot that makes recommendations for activities. You answer in very short sentences and do not include extra information.\n",
    "This is the recommended activity: {relevant_document}\n",
    "The user input is: {user_input}\n",
    "Compile a recommendation to the user based on the recommended activity and the user input.\n",
    "\"\"\"\n",
    "\n",
    "url = 'http://localhost:11434/api/generate'\n",
    "\n",
    "\n",
    "data = {\n",
    "    \"model\": \"llama2\",\n",
    "    \"prompt\": prompt.format(user_input=user_input, relevant_document=relevant_document)\n",
    "}\n",
    "\n",
    "headers = {'Content-Type': 'application/json'}\n",
    "\n",
    "response = requests.post(url, data=json.dumps(data), headers=headers, stream=True)\n",
    "\n",
    "\n",
    "try:\n",
    "    for line in response.iter_lines():\n",
    "        # filter out keep-alive new lines\n",
    "        if line:\n",
    "            decoded_line = json.loads(line.decode('utf-8'))\n",
    "            # print(decoded_line['response'])  # uncomment to results, token by token\n",
    "            full_response.append(decoded_line['response'])\n",
    "finally:\n",
    "    response.close()\n",
    "    \n",
    "    \n",
    "print(''.join(full_response))"
   ]
  },
  {
   "cell_type": "code",
   "execution_count": null,
   "id": "52a67429",
   "metadata": {},
   "outputs": [],
   "source": []
  }
 ],
 "metadata": {
  "kernelspec": {
   "display_name": "Python 3",
   "language": "python",
   "name": "python3"
  },
  "language_info": {
   "codemirror_mode": {
    "name": "ipython",
    "version": 3
   },
   "file_extension": ".py",
   "mimetype": "text/x-python",
   "name": "python",
   "nbconvert_exporter": "python",
   "pygments_lexer": "ipython3",
   "version": "3.12.4"
  }
 },
 "nbformat": 4,
 "nbformat_minor": 5
}
